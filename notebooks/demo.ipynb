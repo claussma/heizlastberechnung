{
 "cells": [
  {
   "cell_type": "code",
   "execution_count": 5,
   "metadata": {},
   "outputs": [
    {
     "name": "stdout",
     "output_type": "stream",
     "text": [
      "The autoreload extension is already loaded. To reload it, use:\n",
      "  %reload_ext autoreload\n"
     ]
    }
   ],
   "source": [
    "%load_ext autoreload\n",
    "%autoreload 2\n",
    "\n",
    "from heizlast import House"
   ]
  },
  {
   "cell_type": "code",
   "execution_count": 71,
   "metadata": {},
   "outputs": [
    {
     "name": "stdout",
     "output_type": "stream",
     "text": [
      "87723.93094210084\n"
     ]
    }
   ],
   "source": [
    "# Haus erstellen und Wand hinzufügen\n",
    "house = House()\n",
    "house.add_wall(\n",
    "    name='Außenwand',\n",
    "    area=250.0, \n",
    "    layers_info=[\n",
    "        {'name': 'Innenputz aus Gipsputzmörtel', 'thickness': 0.02, 'thermal_conductivity': 0.7},\n",
    "        {'name': 'Ziegel', 'thickness': 0.38, 'thermal_conductivity': 0.6},\n",
    "        {'name': 'Kunstharzputz', 'thickness': 0.02, 'thermal_conductivity': 0.7},\n",
    "        ]\n",
    "    )\n",
    "\n",
    "house.add_roof(\n",
    "    area=8.6*8.4*1.2, \n",
    "    layers_info=[\n",
    "        {'name': 'Gipskartonplatte', 'thickness': 0.0125, 'thermal_conductivity': 0.21},\n",
    "        {'name': 'Luftschicht (Lattung vernachlässigt)', 'thickness': 0.0, 'thermal_conductivity': 0.6},\n",
    "        {'name': 'Spannplatte', 'thickness': 0.026, 'thermal_conductivity': 0.17},\n",
    "        {'name': 'Traglattung (licht. Abstand 0,54m)', 'thickness': 0.00, 'thermal_conductivity': 0.7},\n",
    "        {'name': 'Sparren', 'thickness': 0.0, 'thermal_conductivity': 0.7},\n",
    "        {'name': 'Spannplatte', 'thickness': 0.0, 'thermal_conductivity': 0.7},\n",
    "        ]\n",
    ")\n",
    "\n",
    "house.calc_annual_transmission_heat_loss()\n",
    "\n",
    "print(house.annual_transmission_heat_loss)"
   ]
  },
  {
   "cell_type": "code",
   "execution_count": 72,
   "metadata": {},
   "outputs": [
    {
     "data": {
      "text/html": [
       "<div>\n",
       "<style scoped>\n",
       "    .dataframe tbody tr th:only-of-type {\n",
       "        vertical-align: middle;\n",
       "    }\n",
       "\n",
       "    .dataframe tbody tr th {\n",
       "        vertical-align: top;\n",
       "    }\n",
       "\n",
       "    .dataframe thead th {\n",
       "        text-align: right;\n",
       "    }\n",
       "</style>\n",
       "<table border=\"1\" class=\"dataframe\">\n",
       "  <thead>\n",
       "    <tr style=\"text-align: right;\">\n",
       "      <th></th>\n",
       "      <th>Area</th>\n",
       "      <th>U-Value</th>\n",
       "    </tr>\n",
       "    <tr>\n",
       "      <th>name</th>\n",
       "      <th></th>\n",
       "      <th></th>\n",
       "    </tr>\n",
       "  </thead>\n",
       "  <tbody>\n",
       "    <tr>\n",
       "      <th>Außenwand</th>\n",
       "      <td>250.000</td>\n",
       "      <td>1.162147</td>\n",
       "    </tr>\n",
       "    <tr>\n",
       "      <th>Dach</th>\n",
       "      <td>86.688</td>\n",
       "      <td>2.424448</td>\n",
       "    </tr>\n",
       "  </tbody>\n",
       "</table>\n",
       "</div>"
      ],
      "text/plain": [
       "              Area   U-Value\n",
       "name                        \n",
       "Außenwand  250.000  1.162147\n",
       "Dach        86.688  2.424448"
      ]
     },
     "execution_count": 72,
     "metadata": {},
     "output_type": "execute_result"
    }
   ],
   "source": [
    "house.info()"
   ]
  },
  {
   "cell_type": "code",
   "execution_count": null,
   "metadata": {},
   "outputs": [],
   "source": []
  }
 ],
 "metadata": {
  "kernelspec": {
   "display_name": "base",
   "language": "python",
   "name": "python3"
  },
  "language_info": {
   "codemirror_mode": {
    "name": "ipython",
    "version": 3
   },
   "file_extension": ".py",
   "mimetype": "text/x-python",
   "name": "python",
   "nbconvert_exporter": "python",
   "pygments_lexer": "ipython3",
   "version": "3.11.5"
  }
 },
 "nbformat": 4,
 "nbformat_minor": 2
}
